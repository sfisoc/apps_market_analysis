{
 "cells": [
  {
   "cell_type": "markdown",
   "metadata": {},
   "source": [
    "# Android and IOS mobile apps analysis\n",
    "\n",
    "In this project, we aim to get some insight into the mobile app market between two fierce competitors and see how apps in both stores compare\n",
    "\n",
    "The goal of the project is to see which app store market is more profitable to have an app created for"
   ]
  },
  {
   "cell_type": "code",
   "execution_count": 1,
   "metadata": {},
   "outputs": [],
   "source": [
    "def explore_data(dataset, start, end, rows_and_columns=False):\n",
    "    dataset_slice = dataset[start:end]    \n",
    "    for row in dataset_slice:\n",
    "        print(row)\n",
    "        print('\\n') # adds a new (empty) line after each row\n",
    "\n",
    "    if rows_and_columns:\n",
    "        print('Number of rows:', len(dataset))\n",
    "        print('Number of columns:', len(dataset[0]))"
   ]
  },
  {
   "cell_type": "code",
   "execution_count": 2,
   "metadata": {},
   "outputs": [],
   "source": [
    "opened_file = open('AppleStore.csv')\n",
    "from csv import reader\n",
    "read_file = reader(opened_file)\n",
    "appleStore_apps_data = list(read_file)\n",
    "opened_file.close()"
   ]
  },
  {
   "cell_type": "code",
   "execution_count": 3,
   "metadata": {},
   "outputs": [],
   "source": [
    "opened_file = open('googleplaystore.csv')\n",
    "from csv import reader\n",
    "read_file = reader(opened_file)\n",
    "googleStore_apps_data = list(read_file)\n",
    "opened_file.close()"
   ]
  },
  {
   "cell_type": "markdown",
   "metadata": {},
   "source": [
    "### Apple Store apps sample data"
   ]
  },
  {
   "cell_type": "code",
   "execution_count": 4,
   "metadata": {},
   "outputs": [
    {
     "name": "stdout",
     "output_type": "stream",
     "text": [
      "['284882215', 'Facebook', '389879808', 'USD', '0.0', '2974676', '212', '3.5', '3.5', '95.0', '4+', 'Social Networking', '37', '1', '29', '1']\n",
      "\n",
      "\n",
      "['389801252', 'Instagram', '113954816', 'USD', '0.0', '2161558', '1289', '4.5', '4.0', '10.23', '12+', 'Photo & Video', '37', '0', '29', '1']\n",
      "\n",
      "\n",
      "['529479190', 'Clash of Clans', '116476928', 'USD', '0.0', '2130805', '579', '4.5', '4.5', '9.24.12', '9+', 'Games', '38', '5', '18', '1']\n",
      "\n",
      "\n",
      "['420009108', 'Temple Run', '65921024', 'USD', '0.0', '1724546', '3842', '4.5', '4.0', '1.6.2', '9+', 'Games', '40', '5', '1', '1']\n",
      "\n",
      "\n",
      "Number of rows: 7198\n",
      "Number of columns: 16\n"
     ]
    }
   ],
   "source": [
    "explore_data(appleStore_apps_data,1,5,True)"
   ]
  },
  {
   "cell_type": "markdown",
   "metadata": {},
   "source": [
    "### Google Play Store apps sample data"
   ]
  },
  {
   "cell_type": "code",
   "execution_count": 5,
   "metadata": {},
   "outputs": [
    {
     "name": "stdout",
     "output_type": "stream",
     "text": [
      "['Photo Editor & Candy Camera & Grid & ScrapBook', 'ART_AND_DESIGN', '4.1', '159', '19M', '10,000+', 'Free', '0', 'Everyone', 'Art & Design', 'January 7, 2018', '1.0.0', '4.0.3 and up']\n",
      "\n",
      "\n",
      "['Coloring book moana', 'ART_AND_DESIGN', '3.9', '967', '14M', '500,000+', 'Free', '0', 'Everyone', 'Art & Design;Pretend Play', 'January 15, 2018', '2.0.0', '4.0.3 and up']\n",
      "\n",
      "\n",
      "['U Launcher Lite – FREE Live Cool Themes, Hide Apps', 'ART_AND_DESIGN', '4.7', '87510', '8.7M', '5,000,000+', 'Free', '0', 'Everyone', 'Art & Design', 'August 1, 2018', '1.2.4', '4.0.3 and up']\n",
      "\n",
      "\n",
      "['Sketch - Draw & Paint', 'ART_AND_DESIGN', '4.5', '215644', '25M', '50,000,000+', 'Free', '0', 'Teen', 'Art & Design', 'June 8, 2018', 'Varies with device', '4.2 and up']\n",
      "\n",
      "\n",
      "Number of rows: 10842\n",
      "Number of columns: 13\n"
     ]
    }
   ],
   "source": [
    "explore_data(googleStore_apps_data,1,5,True)"
   ]
  },
  {
   "cell_type": "markdown",
   "metadata": {},
   "source": [
    "### Colum names for Apple Store data\n",
    "\n",
    "The below link can be used for a clear definition of column names :\n",
    "\n",
    "[Source](https://www.kaggle.com/datasets/ramamet4/app-store-apple-data-set-10k-apps)"
   ]
  },
  {
   "cell_type": "code",
   "execution_count": 6,
   "metadata": {},
   "outputs": [
    {
     "name": "stdout",
     "output_type": "stream",
     "text": [
      "['id', 'track_name', 'size_bytes', 'currency', 'price', 'rating_count_tot', 'rating_count_ver', 'user_rating', 'user_rating_ver', 'ver', 'cont_rating', 'prime_genre', 'sup_devices.num', 'ipadSc_urls.num', 'lang.num', 'vpp_lic']\n",
      "\n",
      "\n",
      "Number of rows: 7198\n",
      "Number of columns: 16\n"
     ]
    }
   ],
   "source": [
    "explore_data(appleStore_apps_data,0,1,True)\n"
   ]
  },
  {
   "cell_type": "markdown",
   "metadata": {},
   "source": [
    "### Colum names for Google Play Store data\n",
    "\n",
    "The below link can be used for a clear definition of column names :\n",
    "\n",
    "[Source](https://www.kaggle.com/datasets/lava18/google-play-store-apps)"
   ]
  },
  {
   "cell_type": "code",
   "execution_count": 7,
   "metadata": {},
   "outputs": [
    {
     "name": "stdout",
     "output_type": "stream",
     "text": [
      "['App', 'Category', 'Rating', 'Reviews', 'Size', 'Installs', 'Type', 'Price', 'Content Rating', 'Genres', 'Last Updated', 'Current Ver', 'Android Ver']\n",
      "\n",
      "\n",
      "Number of rows: 10842\n",
      "Number of columns: 13\n"
     ]
    }
   ],
   "source": [
    "explore_data(googleStore_apps_data,0,1,True)"
   ]
  },
  {
   "cell_type": "markdown",
   "metadata": {},
   "source": [
    "### Finding error on data and deleting the row"
   ]
  },
  {
   "cell_type": "code",
   "execution_count": 8,
   "metadata": {},
   "outputs": [
    {
     "name": "stdout",
     "output_type": "stream",
     "text": [
      "['Life Made WI-Fi Touchscreen Photo Frame', '1.9', '19', '3.0M', '1,000+', 'Free', '0', 'Everyone', '', 'February 11, 2018', '1.0.19', '4.0 and up']\n",
      "10473\n"
     ]
    }
   ],
   "source": [
    "googleStore_header = googleStore_apps_data[0]\n",
    "for row in googleStore_apps_data[1:]:\n",
    "    if len(row) !=len(googleStore_header):\n",
    "        print(row)\n",
    "        print(googleStore_apps_data.index(row))"
   ]
  },
  {
   "cell_type": "code",
   "execution_count": 9,
   "metadata": {},
   "outputs": [],
   "source": [
    "del googleStore_apps_data[10473]"
   ]
  },
  {
   "cell_type": "markdown",
   "metadata": {},
   "source": [
    "### Google Play store Data has duplicates\n",
    "\n",
    "Below code perform a simple unique count of app names to flash out duplicates"
   ]
  },
  {
   "cell_type": "code",
   "execution_count": 10,
   "metadata": {},
   "outputs": [
    {
     "name": "stdout",
     "output_type": "stream",
     "text": [
      "Number of duplicate apps :  1181\n",
      "\n",
      "\n",
      "Sample of duplicate apps :  ['Quick PDF Scanner + OCR FREE', 'Box', 'Google My Business', 'ZOOM Cloud Meetings', 'join.me - Simple Meetings', 'Box', 'Zenefits', 'Google Ads', 'Google My Business', 'Slack']\n"
     ]
    }
   ],
   "source": [
    "duplicate_names =[]\n",
    "unique_names = []\n",
    "\n",
    "for app in googleStore_apps_data[1:]:\n",
    "    name = app[0]\n",
    "    if name in unique_names:\n",
    "        duplicate_names.append(name)\n",
    "    else:\n",
    "        unique_names.append(name)\n",
    "        \n",
    "print('Number of duplicate apps : ',len(duplicate_names))\n",
    "print('\\n')\n",
    "print('Sample of duplicate apps : ',duplicate_names[:10])"
   ]
  },
  {
   "cell_type": "markdown",
   "metadata": {},
   "source": [
    "The above duplicates can not be simply removed by deleting rows and leaving one left\n",
    ", we will use the reviews column to remove the duplicates by taking the one with the highest\n",
    "reviews and removing the rest, this will give us accurate information as the review count was the only difference among the duplicates, indicating the latest count of reviews on the same application."
   ]
  },
  {
   "cell_type": "markdown",
   "metadata": {},
   "source": [
    "### Removing duplicates\n",
    "The below code prepares the steps needed to remove duplicates, \n",
    "we first get the highest reviews from the duplicate row"
   ]
  },
  {
   "cell_type": "code",
   "execution_count": 11,
   "metadata": {},
   "outputs": [
    {
     "name": "stdout",
     "output_type": "stream",
     "text": [
      "Row length :  9659\n"
     ]
    }
   ],
   "source": [
    "reviews_max = {}\n",
    "for row in googleStore_apps_data[1:]:\n",
    "    name = row[0]\n",
    "    n_reviews = float(row[3])\n",
    "    if name in reviews_max and reviews_max[name] < n_reviews:\n",
    "        reviews_max[name] = n_reviews\n",
    "    elif name not in reviews_max:\n",
    "        reviews_max[name] = n_reviews\n",
    "        \n",
    "print('Row length : ',len(reviews_max))\n",
    "        \n"
   ]
  },
  {
   "cell_type": "markdown",
   "metadata": {},
   "source": [
    "After getting the highest reviews rating, we use it to select a row in the\n",
    "dataset, which will be put in the new clean data list.\n",
    "We easily loop through the whole dataset, using the number of reviews as a unique indicator, we check if the current reviews number is the same as the one in the list above, if that's the case we add the row in the new clean list.\n"
   ]
  },
  {
   "cell_type": "code",
   "execution_count": 12,
   "metadata": {},
   "outputs": [
    {
     "name": "stdout",
     "output_type": "stream",
     "text": [
      "Row length of cleaned data :  9659\n"
     ]
    }
   ],
   "source": [
    "android_clean = []\n",
    "already_added = []\n",
    "for row in googleStore_apps_data[1:]:\n",
    "        name = row[0]\n",
    "        n_reviews = float(row[3])\n",
    "        if (n_reviews == reviews_max[name]) and (name not in already_added):\n",
    "            android_clean.append(row)\n",
    "            already_added.append(name)\n",
    "            \n",
    "\n",
    "print('Row length of cleaned data : ',len(android_clean))\n",
    "\n",
    "    \n"
   ]
  },
  {
   "cell_type": "markdown",
   "metadata": {},
   "source": [
    "### Filter out non-English apps\n",
    "The below function detects if a string has any non-english characters, we will use it further down to clean out non-english names"
   ]
  },
  {
   "cell_type": "code",
   "execution_count": 13,
   "metadata": {},
   "outputs": [
    {
     "data": {
      "text/plain": [
       "True"
      ]
     },
     "execution_count": 13,
     "metadata": {},
     "output_type": "execute_result"
    }
   ],
   "source": [
    "def isEnglishString(string):\n",
    "    for char in string:\n",
    "        if ord(char) > 127:\n",
    "            return False\n",
    "        return True\n",
    "    \n",
    "isEnglishString('Instagram')"
   ]
  },
  {
   "cell_type": "code",
   "execution_count": 14,
   "metadata": {},
   "outputs": [
    {
     "data": {
      "text/plain": [
       "False"
      ]
     },
     "execution_count": 14,
     "metadata": {},
     "output_type": "execute_result"
    }
   ],
   "source": [
    "isEnglishString('爱奇艺PPS -《欢乐颂2》电视剧热播')\n"
   ]
  },
  {
   "cell_type": "code",
   "execution_count": 15,
   "metadata": {},
   "outputs": [
    {
     "data": {
      "text/plain": [
       "True"
      ]
     },
     "execution_count": 15,
     "metadata": {},
     "output_type": "execute_result"
    }
   ],
   "source": [
    "isEnglishString('Docs To Go™ Free Office Suite')\n"
   ]
  },
  {
   "cell_type": "code",
   "execution_count": 16,
   "metadata": {},
   "outputs": [
    {
     "data": {
      "text/plain": [
       "True"
      ]
     },
     "execution_count": 16,
     "metadata": {},
     "output_type": "execute_result"
    }
   ],
   "source": [
    "isEnglishString('Instachat 😜')"
   ]
  },
  {
   "cell_type": "markdown",
   "metadata": {},
   "source": [
    "Using the function created to detect english strings, we focus on the name column to clean out non-english apps"
   ]
  },
  {
   "cell_type": "code",
   "execution_count": 17,
   "metadata": {},
   "outputs": [
    {
     "name": "stdout",
     "output_type": "stream",
     "text": [
      "Row length of cleaned data :  9659\n",
      "Row length of cleaned data :  6273\n"
     ]
    }
   ],
   "source": [
    "android_clean_v2 = []\n",
    "for row in android_clean:\n",
    "        name = row[0]\n",
    "        if isEnglishString(name):\n",
    "            android_clean_v2.append(row)\n",
    "            \n",
    "ios_clean = []\n",
    "for row in appleStore_apps_data[1:]:\n",
    "        name = row[1]\n",
    "        if isEnglishString(name):\n",
    "            ios_clean.append(row)\n",
    "\n",
    "print('Row length of cleaned data : ',len(android_clean))\n",
    "print('Row length of cleaned data : ',len(ios_clean))\n",
    "          "
   ]
  },
  {
   "cell_type": "code",
   "execution_count": 18,
   "metadata": {},
   "outputs": [
    {
     "name": "stdout",
     "output_type": "stream",
     "text": [
      "['Photo Editor & Candy Camera & Grid & ScrapBook', 'ART_AND_DESIGN', '4.1', '159', '19M', '10,000+', 'Free', '0', 'Everyone', 'Art & Design', 'January 7, 2018', '1.0.0', '4.0.3 and up']\n",
      "\n",
      "\n",
      "['U Launcher Lite – FREE Live Cool Themes, Hide Apps', 'ART_AND_DESIGN', '4.7', '87510', '8.7M', '5,000,000+', 'Free', '0', 'Everyone', 'Art & Design', 'August 1, 2018', '1.2.4', '4.0.3 and up']\n",
      "\n",
      "\n",
      "['Sketch - Draw & Paint', 'ART_AND_DESIGN', '4.5', '215644', '25M', '50,000,000+', 'Free', '0', 'Teen', 'Art & Design', 'June 8, 2018', 'Varies with device', '4.2 and up']\n",
      "\n",
      "\n",
      "['Pixel Draw - Number Art Coloring Book', 'ART_AND_DESIGN', '4.3', '967', '2.8M', '100,000+', 'Free', '0', 'Everyone', 'Art & Design;Creativity', 'June 20, 2018', '1.1', '4.4 and up']\n",
      "\n",
      "\n",
      "['Paper flowers instructions', 'ART_AND_DESIGN', '4.4', '167', '5.6M', '50,000+', 'Free', '0', 'Everyone', 'Art & Design', 'March 26, 2017', '1.0', '2.3 and up']\n",
      "\n",
      "\n",
      "Number of rows: 9623\n",
      "Number of columns: 13\n"
     ]
    }
   ],
   "source": [
    "explore_data(android_clean_v2,0,5,True)"
   ]
  },
  {
   "cell_type": "code",
   "execution_count": 19,
   "metadata": {},
   "outputs": [
    {
     "name": "stdout",
     "output_type": "stream",
     "text": [
      "['284882215', 'Facebook', '389879808', 'USD', '0.0', '2974676', '212', '3.5', '3.5', '95.0', '4+', 'Social Networking', '37', '1', '29', '1']\n",
      "\n",
      "\n",
      "['389801252', 'Instagram', '113954816', 'USD', '0.0', '2161558', '1289', '4.5', '4.0', '10.23', '12+', 'Photo & Video', '37', '0', '29', '1']\n",
      "\n",
      "\n",
      "['529479190', 'Clash of Clans', '116476928', 'USD', '0.0', '2130805', '579', '4.5', '4.5', '9.24.12', '9+', 'Games', '38', '5', '18', '1']\n",
      "\n",
      "\n",
      "['420009108', 'Temple Run', '65921024', 'USD', '0.0', '1724546', '3842', '4.5', '4.0', '1.6.2', '9+', 'Games', '40', '5', '1', '1']\n",
      "\n",
      "\n",
      "['284035177', 'Pandora - Music & Radio', '130242560', 'USD', '0.0', '1126879', '3594', '4.0', '4.5', '8.4.1', '12+', 'Music', '37', '4', '1', '1']\n",
      "\n",
      "\n",
      "Number of rows: 6273\n",
      "Number of columns: 16\n"
     ]
    }
   ],
   "source": [
    "explore_data(ios_clean,0,5,True)"
   ]
  },
  {
   "cell_type": "markdown",
   "metadata": {},
   "source": [
    "### Isolating free app\n",
    "On the below steps we gooing to create a list ony for free apps"
   ]
  },
  {
   "cell_type": "code",
   "execution_count": 20,
   "metadata": {},
   "outputs": [
    {
     "name": "stdout",
     "output_type": "stream",
     "text": [
      "Row length of cleaned data :  8873\n",
      "Row length of cleaned data :  3300\n"
     ]
    }
   ],
   "source": [
    "android_free = []\n",
    "for row in android_clean_v2:\n",
    "        price = row[7]\n",
    "        if price == '0':\n",
    "            android_free.append(row)\n",
    "            \n",
    "ios_free = []\n",
    "for row in ios_clean:\n",
    "        price = row[4]\n",
    "        if price == '0.0':\n",
    "            ios_free.append(row)\n",
    "            \n",
    "print('Row length of cleaned data : ',len(android_free))\n",
    "print('Row length of cleaned data : ',len(ios_free))"
   ]
  },
  {
   "cell_type": "code",
   "execution_count": 21,
   "metadata": {},
   "outputs": [],
   "source": [
    "def exploreDataState(data1,data2):\n",
    "    explore_data(data1,0,5,True)\n",
    "    print(' ')\n",
    "    explore_data(data2,0,5,True)"
   ]
  },
  {
   "cell_type": "code",
   "execution_count": 22,
   "metadata": {},
   "outputs": [
    {
     "name": "stdout",
     "output_type": "stream",
     "text": [
      "['Photo Editor & Candy Camera & Grid & ScrapBook', 'ART_AND_DESIGN', '4.1', '159', '19M', '10,000+', 'Free', '0', 'Everyone', 'Art & Design', 'January 7, 2018', '1.0.0', '4.0.3 and up']\n",
      "\n",
      "\n",
      "['U Launcher Lite – FREE Live Cool Themes, Hide Apps', 'ART_AND_DESIGN', '4.7', '87510', '8.7M', '5,000,000+', 'Free', '0', 'Everyone', 'Art & Design', 'August 1, 2018', '1.2.4', '4.0.3 and up']\n",
      "\n",
      "\n",
      "['Sketch - Draw & Paint', 'ART_AND_DESIGN', '4.5', '215644', '25M', '50,000,000+', 'Free', '0', 'Teen', 'Art & Design', 'June 8, 2018', 'Varies with device', '4.2 and up']\n",
      "\n",
      "\n",
      "['Pixel Draw - Number Art Coloring Book', 'ART_AND_DESIGN', '4.3', '967', '2.8M', '100,000+', 'Free', '0', 'Everyone', 'Art & Design;Creativity', 'June 20, 2018', '1.1', '4.4 and up']\n",
      "\n",
      "\n",
      "['Paper flowers instructions', 'ART_AND_DESIGN', '4.4', '167', '5.6M', '50,000+', 'Free', '0', 'Everyone', 'Art & Design', 'March 26, 2017', '1.0', '2.3 and up']\n",
      "\n",
      "\n",
      "Number of rows: 8873\n",
      "Number of columns: 13\n",
      " \n",
      "['284882215', 'Facebook', '389879808', 'USD', '0.0', '2974676', '212', '3.5', '3.5', '95.0', '4+', 'Social Networking', '37', '1', '29', '1']\n",
      "\n",
      "\n",
      "['389801252', 'Instagram', '113954816', 'USD', '0.0', '2161558', '1289', '4.5', '4.0', '10.23', '12+', 'Photo & Video', '37', '0', '29', '1']\n",
      "\n",
      "\n",
      "['529479190', 'Clash of Clans', '116476928', 'USD', '0.0', '2130805', '579', '4.5', '4.5', '9.24.12', '9+', 'Games', '38', '5', '18', '1']\n",
      "\n",
      "\n",
      "['420009108', 'Temple Run', '65921024', 'USD', '0.0', '1724546', '3842', '4.5', '4.0', '1.6.2', '9+', 'Games', '40', '5', '1', '1']\n",
      "\n",
      "\n",
      "['284035177', 'Pandora - Music & Radio', '130242560', 'USD', '0.0', '1126879', '3594', '4.0', '4.5', '8.4.1', '12+', 'Music', '37', '4', '1', '1']\n",
      "\n",
      "\n",
      "Number of rows: 3300\n",
      "Number of columns: 16\n"
     ]
    }
   ],
   "source": [
    "exploreDataState(android_free,ios_free)"
   ]
  },
  {
   "cell_type": "markdown",
   "metadata": {},
   "source": [
    "### App analysis\n",
    "\n",
    "After all the cleaning, now we are ready to analyze our data to find a winning \n",
    "strategy for an app idea, that will do well in both the store, we will validate\n",
    "the app idea in several parts:\n",
    "* Build a minimum app and add it to Google Play\n",
    "* Monitor response if does well, develop it further\n",
    "* If the app gets profits, build an IOS version for the App Store\n",
    "    \n",
    "Our end goal is to add winning apps for both stores, so to help us we need to \n",
    "investigate winning apps on our dataset and look for common features they have.\n",
    "We will try by observing columns that feature in both stores associated with reviews\n",
    "and ratings of those apps, this will give us a feel of what categories we should focus on if we want to create winning apps\n",
    "\n",
    "    "
   ]
  },
  {
   "cell_type": "code",
   "execution_count": 23,
   "metadata": {},
   "outputs": [],
   "source": [
    "def freq_table(dataset,index):\n",
    "    counting = {}\n",
    "    total_number_of_data = len(dataset)\n",
    "    \n",
    "    for row in dataset:\n",
    "        item = row[index]\n",
    "        if item in counting:\n",
    "            counting[item] += 1\n",
    "        else:\n",
    "            counting[item] = 1\n",
    "            \n",
    "    for iteration_variable in counting:\n",
    "        counting[iteration_variable] /= total_number_of_data\n",
    "        counting[iteration_variable] *= 100\n",
    "    \n",
    "    return counting"
   ]
  },
  {
   "cell_type": "code",
   "execution_count": 24,
   "metadata": {},
   "outputs": [],
   "source": [
    "def display_table(dataset, index):\n",
    "    table = freq_table(dataset, index)\n",
    "    table_display = []\n",
    "    for key in table:\n",
    "        key_val_as_tuple = (table[key], key)\n",
    "        table_display.append(key_val_as_tuple)\n",
    "\n",
    "    table_sorted = sorted(table_display, reverse = True)\n",
    "    for entry in table_sorted:\n",
    "        print(entry[1], ':', entry[0])"
   ]
  },
  {
   "cell_type": "markdown",
   "metadata": {},
   "source": [
    "### IOS Prime Genre"
   ]
  },
  {
   "cell_type": "code",
   "execution_count": 36,
   "metadata": {},
   "outputs": [
    {
     "name": "stdout",
     "output_type": "stream",
     "text": [
      "Games : 57.484848484848484\n",
      "Entertainment : 7.96969696969697\n",
      "Photo & Video : 4.878787878787879\n",
      "Education : 3.5757575757575757\n",
      "Social Networking : 3.3939393939393945\n",
      "Utilities : 2.696969696969697\n",
      "Shopping : 2.5757575757575757\n",
      "Sports : 2.1212121212121215\n",
      "Health & Fitness : 2.0606060606060606\n",
      "Music : 2.0303030303030303\n",
      "Productivity : 1.7575757575757573\n",
      "Lifestyle : 1.6969696969696972\n",
      "News : 1.3636363636363635\n",
      "Travel : 1.1818181818181819\n",
      "Finance : 1.1818181818181819\n",
      "Weather : 0.8787878787878787\n",
      "Food & Drink : 0.8787878787878787\n",
      "Book : 0.5757575757575757\n",
      "Reference : 0.5151515151515151\n",
      "Business : 0.5151515151515151\n",
      "Navigation : 0.27272727272727276\n",
      "Medical : 0.21212121212121215\n",
      "Catalogs : 0.18181818181818182\n"
     ]
    }
   ],
   "source": [
    "display_table(ios_free,11)"
   ]
  },
  {
   "cell_type": "markdown",
   "metadata": {},
   "source": [
    "##### Analysis\n",
    "\n",
    "From the above IOS prime genre, we can see the following :\n",
    "* The most common genre is Games, followed by Entertainment\n",
    "* Other genres are very small proportional to overall genres.\n",
    "* The data gives a general impression that entertainment apps are the most compared to apps built for practical purposes\n",
    "\n",
    "Of the above Games genre is the most dominant and seems to be an easy pick  for our ideal app for the IOS App store"
   ]
  },
  {
   "cell_type": "markdown",
   "metadata": {},
   "source": [
    "### Android Category"
   ]
  },
  {
   "cell_type": "code",
   "execution_count": 27,
   "metadata": {},
   "outputs": [
    {
     "name": "stdout",
     "output_type": "stream",
     "text": [
      "FAMILY : 18.95638453736053\n",
      "GAME : 9.703595176377776\n",
      "TOOLS : 8.441338893271723\n",
      "BUSINESS : 4.59821931702919\n",
      "LIFESTYLE : 3.933280739321537\n",
      "PRODUCTIVITY : 3.899470303166911\n",
      "FINANCE : 3.685337540854277\n",
      "MEDICAL : 3.5275555054660206\n",
      "SPORTS : 3.3923137608475153\n",
      "PERSONALIZATION : 3.3246928885382623\n",
      "COMMUNICATION : 3.234531725459258\n",
      "HEALTH_AND_FITNESS : 3.076749690071002\n",
      "PHOTOGRAPHY : 2.9527780908373717\n",
      "NEWS_AND_MAGAZINES : 2.817536346218866\n",
      "SOCIAL : 2.6484841654457343\n",
      "TRAVEL_AND_LOCAL : 2.332920094669221\n",
      "SHOPPING : 2.231488786205342\n",
      "BOOKS_AND_REFERENCE : 2.1751380592809646\n",
      "DATING : 1.8595739885044518\n",
      "VIDEO_PLAYERS : 1.791953116195199\n",
      "MAPS_AND_NAVIGATION : 1.3974980277245577\n",
      "FOOD_AND_DRINK : 1.2284458469514257\n",
      "EDUCATION : 1.1720951200270482\n",
      "ENTERTAINMENT : 0.946692212329539\n",
      "LIBRARIES_AND_DEMO : 0.9354220669446636\n",
      "AUTO_AND_VEHICLES : 0.9241519215597882\n",
      "HOUSE_AND_HOME : 0.8114504677110335\n",
      "WEATHER : 0.800180322326158\n",
      "EVENTS : 0.7100191592471543\n",
      "PARENTING : 0.6536684323227769\n",
      "ART_AND_DESIGN : 0.6423982869379015\n",
      "COMICS : 0.5973177053983997\n",
      "BEAUTY : 0.5973177053983997\n"
     ]
    }
   ],
   "source": [
    "display_table(android_free,1)"
   ]
  },
  {
   "cell_type": "markdown",
   "metadata": {},
   "source": [
    "### Android Genres"
   ]
  },
  {
   "cell_type": "code",
   "execution_count": 34,
   "metadata": {},
   "outputs": [
    {
     "name": "stdout",
     "output_type": "stream",
     "text": [
      "Tools : 8.430068747886848\n",
      "Entertainment : 6.063338217063\n",
      "Education : 5.375859348585597\n",
      "Business : 4.59821931702919\n",
      "Lifestyle : 3.922010593936662\n",
      "Productivity : 3.899470303166911\n",
      "Finance : 3.685337540854277\n",
      "Medical : 3.5275555054660206\n",
      "Sports : 3.459934633156768\n",
      "Personalization : 3.3246928885382623\n",
      "Communication : 3.234531725459258\n",
      "Action : 3.0880198354558774\n",
      "Health & Fitness : 3.076749690071002\n",
      "Photography : 2.9527780908373717\n",
      "News & Magazines : 2.817536346218866\n",
      "Social : 2.6484841654457343\n",
      "Travel & Local : 2.3216499492843456\n",
      "Shopping : 2.231488786205342\n",
      "Books & Reference : 2.1751380592809646\n",
      "Simulation : 2.06243660543221\n",
      "Dating : 1.8595739885044518\n",
      "Arcade : 1.8370336977347006\n",
      "Video Players & Editors : 1.7694128254254478\n",
      "Casual : 1.7581426800405726\n",
      "Maps & Navigation : 1.3974980277245577\n",
      "Food & Drink : 1.2284458469514257\n",
      "Puzzle : 1.1270145384875465\n",
      "Racing : 0.9917727938690409\n",
      "Role Playing : 0.9354220669446636\n",
      "Libraries & Demo : 0.9354220669446636\n",
      "Auto & Vehicles : 0.9241519215597882\n",
      "Strategy : 0.9128817761749126\n",
      "House & Home : 0.8114504677110335\n",
      "Weather : 0.800180322326158\n",
      "Events : 0.7100191592471543\n",
      "Adventure : 0.6762087230925279\n",
      "Beauty : 0.5973177053983997\n",
      "Art & Design : 0.5973177053983997\n",
      "Comics : 0.5860475600135241\n",
      "Parenting : 0.49588639693452047\n",
      "Card : 0.45080581539501857\n",
      "Trivia : 0.4282655246252677\n",
      "Casino : 0.4282655246252677\n",
      "Educational;Education : 0.3944550884706413\n",
      "Board : 0.38318494308576584\n",
      "Educational : 0.3719147977008903\n",
      "Education;Education : 0.3493745069311394\n",
      "Word : 0.2592133438521357\n",
      "Casual;Pretend Play : 0.23667305308238476\n",
      "Music : 0.20286261692775837\n",
      "Racing;Action & Adventure : 0.16905218077313197\n",
      "Puzzle;Brain Games : 0.16905218077313197\n",
      "Entertainment;Music & Video : 0.16905218077313197\n",
      "Casual;Brain Games : 0.13524174461850558\n",
      "Casual;Action & Adventure : 0.13524174461850558\n",
      "Arcade;Action & Adventure : 0.12397159923363012\n",
      "Action;Action & Adventure : 0.10143130846387918\n",
      "Educational;Pretend Play : 0.09016116307900371\n",
      "Simulation;Action & Adventure : 0.07889101769412826\n",
      "Parenting;Education : 0.07889101769412826\n",
      "Entertainment;Brain Games : 0.07889101769412826\n",
      "Board;Brain Games : 0.07889101769412826\n",
      "Parenting;Music & Video : 0.06762087230925279\n",
      "Educational;Brain Games : 0.06762087230925279\n",
      "Casual;Creativity : 0.06762087230925279\n",
      "Art & Design;Creativity : 0.06762087230925279\n",
      "Education;Pretend Play : 0.05635072692437732\n",
      "Role Playing;Pretend Play : 0.045080581539501854\n",
      "Education;Creativity : 0.045080581539501854\n",
      "Role Playing;Action & Adventure : 0.033810436154626394\n",
      "Puzzle;Action & Adventure : 0.033810436154626394\n",
      "Entertainment;Creativity : 0.033810436154626394\n",
      "Entertainment;Action & Adventure : 0.033810436154626394\n",
      "Educational;Creativity : 0.033810436154626394\n",
      "Educational;Action & Adventure : 0.033810436154626394\n",
      "Education;Music & Video : 0.033810436154626394\n",
      "Education;Brain Games : 0.033810436154626394\n",
      "Education;Action & Adventure : 0.033810436154626394\n",
      "Adventure;Action & Adventure : 0.033810436154626394\n",
      "Video Players & Editors;Music & Video : 0.022540290769750927\n",
      "Sports;Action & Adventure : 0.022540290769750927\n",
      "Simulation;Pretend Play : 0.022540290769750927\n",
      "Puzzle;Creativity : 0.022540290769750927\n",
      "Music;Music & Video : 0.022540290769750927\n",
      "Entertainment;Pretend Play : 0.022540290769750927\n",
      "Casual;Education : 0.022540290769750927\n",
      "Board;Action & Adventure : 0.022540290769750927\n",
      "Video Players & Editors;Creativity : 0.011270145384875464\n",
      "Trivia;Education : 0.011270145384875464\n",
      "Travel & Local;Action & Adventure : 0.011270145384875464\n",
      "Tools;Education : 0.011270145384875464\n",
      "Strategy;Education : 0.011270145384875464\n",
      "Strategy;Creativity : 0.011270145384875464\n",
      "Strategy;Action & Adventure : 0.011270145384875464\n",
      "Simulation;Education : 0.011270145384875464\n",
      "Role Playing;Brain Games : 0.011270145384875464\n",
      "Racing;Pretend Play : 0.011270145384875464\n",
      "Puzzle;Education : 0.011270145384875464\n",
      "Parenting;Brain Games : 0.011270145384875464\n",
      "Music & Audio;Music & Video : 0.011270145384875464\n",
      "Lifestyle;Pretend Play : 0.011270145384875464\n",
      "Lifestyle;Education : 0.011270145384875464\n",
      "Health & Fitness;Education : 0.011270145384875464\n",
      "Health & Fitness;Action & Adventure : 0.011270145384875464\n",
      "Entertainment;Education : 0.011270145384875464\n",
      "Communication;Creativity : 0.011270145384875464\n",
      "Comics;Creativity : 0.011270145384875464\n",
      "Casual;Music & Video : 0.011270145384875464\n",
      "Card;Action & Adventure : 0.011270145384875464\n",
      "Books & Reference;Education : 0.011270145384875464\n",
      "Art & Design;Pretend Play : 0.011270145384875464\n",
      "Art & Design;Action & Adventure : 0.011270145384875464\n",
      "Arcade;Pretend Play : 0.011270145384875464\n",
      "Adventure;Education : 0.011270145384875464\n"
     ]
    }
   ],
   "source": [
    "display_table(android_free,9)"
   ]
  },
  {
   "cell_type": "markdown",
   "metadata": {},
   "source": [
    "##### Analysis\n",
    "\n",
    "From the above Android genre and category, we can see the following :\n",
    "* The most common genres are tools followed by Entertainment in categories\n",
    "Family and games are the most dominating categories\n",
    "* Most other categories have no significant difference\n",
    "* Compared with IOS prime genres, android does not have a big leap in the different genres\n",
    ", and just like IOS games also have a major stake in overall genres\n",
    "\n",
    "Mixing Android and IOS, preliminary we can advocate for Entertainment and Games\n",
    "app profile as it the genres have the most users"
   ]
  },
  {
   "cell_type": "markdown",
   "metadata": {},
   "source": [
    "#### Looking at App number installed \n",
    "One way to look for most people's apps is looking for the number of installed, which givesa feel of how many people are downloading the app."
   ]
  },
  {
   "cell_type": "markdown",
   "metadata": {},
   "source": [
    "##### IOS work around\n",
    "IOS does not have number of installs column, thus as a workaround user ratings for  the apps will be used"
   ]
  },
  {
   "cell_type": "code",
   "execution_count": 38,
   "metadata": {},
   "outputs": [],
   "source": [
    "ios_freq_genre = freq_table(ios_free,11)"
   ]
  },
  {
   "cell_type": "code",
   "execution_count": 67,
   "metadata": {},
   "outputs": [
    {
     "name": "stdout",
     "output_type": "stream",
     "text": [
      "Social Networking 2.8705357142857144\n",
      "Photo & Video 3.3633540372670807\n",
      "Games 3.8610964681075384\n",
      "Music 3.9477611940298507\n",
      "Reference 4.088235294117647\n",
      "Health & Fitness 3.514705882352941\n",
      "Weather 2.913793103448276\n",
      "Utilities 3.106741573033708\n",
      "Travel 2.8333333333333335\n",
      "Shopping 3.3941176470588235\n",
      "News 2.5444444444444443\n",
      "Navigation 1.5\n",
      "Lifestyle 2.7410714285714284\n",
      "Entertainment 3.216730038022814\n",
      "Food & Drink 2.913793103448276\n",
      "Sports 2.642857142857143\n",
      "Book 2.789473684210526\n",
      "Finance 2.6794871794871793\n",
      "Education 3.110169491525424\n",
      "Productivity 3.8879310344827585\n",
      "Business 3.0588235294117645\n",
      "Catalogs 2.6666666666666665\n",
      "Medical 3.5\n"
     ]
    }
   ],
   "source": [
    "for genere in ios_freq_genre:\n",
    "    total = 0;\n",
    "    len_genre = 0;\n",
    "    for row in ios_free:\n",
    "        genre_app = row[11]\n",
    "        if genre_app == genere:\n",
    "            user_ratings = float(row[8])\n",
    "            total += user_ratings\n",
    "            len_genre +=1\n",
    "    average_user = total/len_genre\n",
    "    \n",
    "    print(genere, average_user)\n"
   ]
  },
  {
   "cell_type": "markdown",
   "metadata": {},
   "source": [
    "From the above, prime genre Reference seems to have the most users/installs, thus we can recommend it"
   ]
  },
  {
   "cell_type": "markdown",
   "metadata": {},
   "source": [
    "#### Android installs"
   ]
  },
  {
   "cell_type": "code",
   "execution_count": 66,
   "metadata": {},
   "outputs": [
    {
     "name": "stdout",
     "output_type": "stream",
     "text": [
      "ART_AND_DESIGN 1986335.0877192982\n",
      "AUTO_AND_VEHICLES 647317.8170731707\n",
      "BEAUTY 513151.88679245283\n",
      "BOOKS_AND_REFERENCE 8631794.093264248\n",
      "BUSINESS 1708215.906862745\n",
      "COMICS 828700.9433962264\n",
      "COMMUNICATION 38456119.167247385\n",
      "DATING 854028.8303030303\n",
      "EDUCATION 1825480.7692307692\n",
      "ENTERTAINMENT 11767380.952380951\n",
      "EVENTS 253542.22222222222\n",
      "FINANCE 1361355.1437308867\n",
      "FOOD_AND_DRINK 1942465.605504587\n",
      "HEALTH_AND_FITNESS 4188821.9853479853\n",
      "HOUSE_AND_HOME 1348645.2916666667\n",
      "LIBRARIES_AND_DEMO 638503.734939759\n",
      "LIFESTYLE 1439955.3839541548\n",
      "GAME 15547984.262485482\n",
      "FAMILY 3682025.3810939356\n",
      "MEDICAL 120550.61980830671\n",
      "SOCIAL 23348348.519148935\n",
      "SHOPPING 7072366.590909091\n",
      "PHOTOGRAPHY 17772018.759541985\n",
      "SPORTS 3638640.1428571427\n",
      "TRAVEL_AND_LOCAL 13984077.710144928\n",
      "TOOLS 10815793.690253671\n",
      "PERSONALIZATION 5183850.806779661\n",
      "PRODUCTIVITY 16738957.554913295\n",
      "PARENTING 542603.6206896552\n",
      "WEATHER 5074486.197183099\n",
      "VIDEO_PLAYERS 24727872.452830188\n",
      "NEWS_AND_MAGAZINES 9472829.04\n",
      "MAPS_AND_NAVIGATION 4009361.209677419\n"
     ]
    }
   ],
   "source": [
    "android_freq_category = freq_table(android_free,1)\n",
    "\n",
    "for category in android_freq_category:\n",
    "    total = 0;\n",
    "    len_category = 0;\n",
    "    for row in android_free:\n",
    "        category_app = row[1]\n",
    "        if category_app == category:\n",
    "            installs = row[5]\n",
    "            total += float(installs.replace('+','').replace(',','')) # remove the +\n",
    "            len_category +=1\n",
    "            \n",
    "    if len_genre == 0:\n",
    "        average_installs = 0\n",
    "    else:\n",
    "        average_installs = total/len_category\n",
    "    \n",
    "    print(category, average_installs)\n"
   ]
  },
  {
   "cell_type": "markdown",
   "metadata": {},
   "source": [
    "From the above category, PHOTOGRAPHY seems to have the most installs, thus we can recommend it"
   ]
  },
  {
   "cell_type": "markdown",
   "metadata": {},
   "source": [
    "# Conclusion\n",
    "Based on users/installs IOS genres showsReference as a genre with the most users and on the other hand android shows Phototograpy as a category with the most installs, thus a photo manipulative app with entertainment immersed into gamification can be the ideal app to break to both markets."
   ]
  },
  {
   "cell_type": "code",
   "execution_count": null,
   "metadata": {},
   "outputs": [],
   "source": []
  }
 ],
 "metadata": {
  "kernelspec": {
   "display_name": "Python 3 (ipykernel)",
   "language": "python",
   "name": "python3"
  },
  "language_info": {
   "codemirror_mode": {
    "name": "ipython",
    "version": 3
   },
   "file_extension": ".py",
   "mimetype": "text/x-python",
   "name": "python",
   "nbconvert_exporter": "python",
   "pygments_lexer": "ipython3",
   "version": "3.9.7"
  }
 },
 "nbformat": 4,
 "nbformat_minor": 2
}
